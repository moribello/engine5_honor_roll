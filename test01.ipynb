{
 "cells": [
  {
   "cell_type": "code",
   "execution_count": 2,
   "metadata": {},
   "outputs": [],
   "source": [
    "import pandas as pd"
   ]
  },
  {
   "cell_type": "code",
   "execution_count": 3,
   "metadata": {},
   "outputs": [],
   "source": [
    "ww2 = pd.read_csv(\"WW2.csv\")\n",
    "korea = pd.read_csv(\"Korea.csv\")"
   ]
  },
  {
   "cell_type": "code",
   "execution_count": 12,
   "metadata": {},
   "outputs": [],
   "source": [
    "ww2['Full Name'] = ww2['First Name'].str.title() + \" \" +ww2['Last Name'].str.title()"
   ]
  },
  {
   "cell_type": "code",
   "execution_count": 19,
   "metadata": {},
   "outputs": [
    {
     "data": {
      "text/html": [
       "<div>\n",
       "<style scoped>\n",
       "    .dataframe tbody tr th:only-of-type {\n",
       "        vertical-align: middle;\n",
       "    }\n",
       "\n",
       "    .dataframe tbody tr th {\n",
       "        vertical-align: top;\n",
       "    }\n",
       "\n",
       "    .dataframe thead th {\n",
       "        text-align: right;\n",
       "    }\n",
       "</style>\n",
       "<table border=\"1\" class=\"dataframe\">\n",
       "  <thead>\n",
       "    <tr style=\"text-align: right;\">\n",
       "      <th></th>\n",
       "      <th>Last Name</th>\n",
       "      <th>First Name</th>\n",
       "      <th>KIA</th>\n",
       "      <th>War</th>\n",
       "      <th>Full Name</th>\n",
       "    </tr>\n",
       "  </thead>\n",
       "  <tbody>\n",
       "    <tr>\n",
       "      <th>606</th>\n",
       "      <td>LAROCHE</td>\n",
       "      <td>ANDREW P</td>\n",
       "      <td>False</td>\n",
       "      <td>WW2</td>\n",
       "      <td>Andrew P Laroche</td>\n",
       "    </tr>\n",
       "    <tr>\n",
       "      <th>607</th>\n",
       "      <td>LAROCHE</td>\n",
       "      <td>JOSEPH A</td>\n",
       "      <td>False</td>\n",
       "      <td>WW2</td>\n",
       "      <td>Joseph A Laroche</td>\n",
       "    </tr>\n",
       "    <tr>\n",
       "      <th>608</th>\n",
       "      <td>LAROCHE</td>\n",
       "      <td>JOSEPH W</td>\n",
       "      <td>False</td>\n",
       "      <td>WW2</td>\n",
       "      <td>Joseph W Laroche</td>\n",
       "    </tr>\n",
       "    <tr>\n",
       "      <th>609</th>\n",
       "      <td>LAROCHE</td>\n",
       "      <td>LEO A</td>\n",
       "      <td>False</td>\n",
       "      <td>WW2</td>\n",
       "      <td>Leo A Laroche</td>\n",
       "    </tr>\n",
       "  </tbody>\n",
       "</table>\n",
       "</div>"
      ],
      "text/plain": [
       "    Last Name First Name    KIA  War          Full Name\n",
       "606   LAROCHE   ANDREW P  False  WW2   Andrew P Laroche\n",
       "607   LAROCHE   JOSEPH A  False  WW2   Joseph A Laroche\n",
       "608   LAROCHE   JOSEPH W  False  WW2   Joseph W Laroche\n",
       "609   LAROCHE      LEO A  False  WW2      Leo A Laroche"
      ]
     },
     "execution_count": 19,
     "metadata": {},
     "output_type": "execute_result"
    }
   ],
   "source": [
    "ww2.loc[ww2['Last Name'] == \"LAROCHE\"]"
   ]
  },
  {
   "cell_type": "code",
   "execution_count": null,
   "metadata": {},
   "outputs": [],
   "source": []
  }
 ],
 "metadata": {
  "kernelspec": {
   "display_name": "Python 3",
   "language": "python",
   "name": "python3"
  },
  "language_info": {
   "codemirror_mode": {
    "name": "ipython",
    "version": 3
   },
   "file_extension": ".py",
   "mimetype": "text/x-python",
   "name": "python",
   "nbconvert_exporter": "python",
   "pygments_lexer": "ipython3",
   "version": "3.7.6"
  }
 },
 "nbformat": 4,
 "nbformat_minor": 4
}
