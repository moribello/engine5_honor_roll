{
 "cells": [
  {
   "cell_type": "code",
   "execution_count": 56,
   "metadata": {},
   "outputs": [],
   "source": [
    "import numpy as np\n",
    "import pandas as pd"
   ]
  },
  {
   "cell_type": "code",
   "execution_count": 64,
   "metadata": {},
   "outputs": [],
   "source": [
    "def import_lists():\n",
    "    try:\n",
    "        listname1 = input(\"Please select Veteran file to read: \")\n",
    "        list1 = pd.read_csv(listname1+\".csv\")\n",
    "        listname2 = input(\"Please select second file to read: \")\n",
    "        list2 = pd.read_csv(listname2+\".csv\")\n",
    "    except:\n",
    "        print(\"That doesn't seem to be a valid file. Pleae try again.\")\n",
    "        \n",
    "    return list1, list2"
   ]
  },
  {
   "cell_type": "code",
   "execution_count": 159,
   "metadata": {},
   "outputs": [],
   "source": [
    "def compare_names(df, df2):\n",
    "    compared_names = pd.DataFrame(columns = [\"Last Name\", \"First Name\",\"First vets\", \"War\", \"Year Joined\", \"Year Left\"])\n",
    "    for i in df.index:\n",
    "        lastname1 = df.loc[i,'Last Name'].title()\n",
    "        firstname1 = str(df.loc[i,'First Name']).title()\n",
    "        warserved = df.loc[i,'War']\n",
    "        for x in df2.index:\n",
    "            lastname2 = df2.loc[x,'Last Name'].title()\n",
    "            firstname2 = df2.loc[x,'First Name'].title()\n",
    "            yearjoined = df2.loc[x,'From']\n",
    "            yearleft = df2.loc[x,'To']\n",
    "            if lastname2 == lastname1:\n",
    "                if firstname2[0] == firstname1[0]:\n",
    "                    temp_series = pd.Series(data = [lastname2, firstname2, firstname1, warserved, yearjoined, yearleft], index = ['Last Name', 'First Name', 'First vets', 'War', 'Year Joined', 'Year Left'])                                             \n",
    "                    compared_names = compared_names.append(temp_series, ignore_index=True)\n",
    "                    print(\"{} {} matches {} {}\".format(firstname2, lastname2, firstname1[0], lastname1))\n",
    "                    \n",
    "#    print(compared_names)    \n",
    "    return compared_names"
   ]
  },
  {
   "cell_type": "code",
   "execution_count": 188,
   "metadata": {},
   "outputs": [],
   "source": [
    "def compare_dates(df):\n",
    "    compared_dates = pd.DataFrame(columns = [\"Last Name\", \"First Name\",\"First vets\", \"War\", \"Year Joined\", \"Year Left\"])\n",
    "    wardates = {'War': ['WW1', 'WW2', 'Korea', 'Vietnam', 'Persian Gulf', 'OEF/OIF'], \n",
    "             'Start Date': [1917, 1940, 1950, 1965, 1990, 2001], 'End Date': [1918, 1945, 1953, 1975, 1991, 2020]}\n",
    "    war_dates = pd.DataFrame(wardates, columns = ['War', 'Start Date', 'End Date'])\n",
    "    \n",
    "    main_list = pd.DataFrame(df, columns = ['Last Name', 'First Name', 'First Name(vet)' 'War', 'Year Joined', 'Year Left'])\n",
    "    print(main_list)\n",
    "    \n",
    "    for i in df.index:\n",
    "        fullrow = df.loc[i]\n",
    "        warserved = df.loc[i,'War']\n",
    "        yearjoined = df.loc[i,'Year Joined']\n",
    "        yearleft = df.loc[i,'Year Left']\n",
    "        fullname = df.loc[i,'First Name'] + \" \" + df.loc[i,'Last Name']\n",
    "        war = df.loc[i, 'War']\n",
    "        warstart = war_dates.loc[war_dates['War'] == war , 'Start Date'].iloc[0]\n",
    "        warend = war_dates.loc[war_dates['War'] == war , 'End Date'].iloc[0]\n",
    "        start = df.loc[i, 'Year Joined']\n",
    "        print(\"{} Joined in {}\".format(fullname, start))\n",
    "        if start <= warstart:\n",
    "            print(\"{} was a member during {}\".format(fullname, war))\n",
    "            temp_series = pd.Series(fullrow)                                             \n",
    "            compared_dates = compared_dates.append(temp_series, ignore_index=True)\n",
    "        elif start > warstart and start <= warend:\n",
    "            print(\"{} may have been a member during {}\".format(fullname, war))\n",
    "            temp_series = pd.Series(fullrow)                                             \n",
    "            compared_dates = compared_dates.append(temp_series, ignore_index=True)\n",
    "        else:\n",
    "            print(\"{} was not a member during war\".format(fullname))\n",
    "    return compared_dates"
   ]
  },
  {
   "cell_type": "code",
   "execution_count": 199,
   "metadata": {},
   "outputs": [],
   "source": [
    "def main():\n",
    "    list1, list2 = import_lists()\n",
    "    datelist = compare_names(list1, list2)\n",
    "    final_list = pd.DataFrame(compare_dates(datelist))\n",
    "    final_list.to_excel(\"final_list.xlsx\")"
   ]
  },
  {
   "cell_type": "code",
   "execution_count": 200,
   "metadata": {},
   "outputs": [
    {
     "name": "stdout",
     "output_type": "stream",
     "text": [
      "Aldrege Aubin matches A Aubin\n",
      "Arthur Aubin matches A Aubin\n",
      "Aldrege Aubin matches A Aubin\n",
      "Arthur Aubin matches A Aubin\n",
      "Edward W Wujick matches E Wujick\n",
      "Edward Martel matches E Martel\n",
      "  Last Name First Name  First Name(vet)War Year Joined Year Left\n",
      "0     Aubin    Aldrege                 NaN        1914      1920\n",
      "1     Aubin     Arthur                 NaN        1937      1964\n",
      "2     Aubin    Aldrege                 NaN        1914      1920\n",
      "3     Aubin     Arthur                 NaN        1937      1964\n",
      "4    Wujick   Edward W                 NaN        1939      2008\n",
      "5    Martel     Edward                 NaN        1966      2020\n",
      "Aldrege Aubin Joined in 1914\n",
      "Aldrege Aubin was a member during WW1\n",
      "Arthur Aubin Joined in 1937\n",
      "Arthur Aubin was not a member during war\n",
      "Aldrege Aubin Joined in 1914\n",
      "Aldrege Aubin was a member during WW1\n",
      "Arthur Aubin Joined in 1937\n",
      "Arthur Aubin was not a member during war\n",
      "Edward W Wujick Joined in 1939\n",
      "Edward W Wujick was a member during WW2\n",
      "Edward Martel Joined in 1966\n",
      "Edward Martel may have been a member during Vietnam\n"
     ]
    }
   ],
   "source": [
    "if __name__ == \"__main__\":\n",
    "    main()"
   ]
  },
  {
   "cell_type": "code",
   "execution_count": null,
   "metadata": {},
   "outputs": [],
   "source": []
  }
 ],
 "metadata": {
  "kernelspec": {
   "display_name": "Python 3",
   "language": "python",
   "name": "python3"
  },
  "language_info": {
   "codemirror_mode": {
    "name": "ipython",
    "version": 3
   },
   "file_extension": ".py",
   "mimetype": "text/x-python",
   "name": "python",
   "nbconvert_exporter": "python",
   "pygments_lexer": "ipython3",
   "version": "3.7.6"
  }
 },
 "nbformat": 4,
 "nbformat_minor": 4
}
