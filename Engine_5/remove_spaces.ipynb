{
 "cells": [
  {
   "cell_type": "code",
   "execution_count": 1,
   "metadata": {},
   "outputs": [],
   "source": [
    "import numpy as np\n",
    "import pandas as pd"
   ]
  },
  {
   "cell_type": "code",
   "execution_count": 39,
   "metadata": {},
   "outputs": [
    {
     "name": "stdout",
     "output_type": "stream",
     "text": [
      "Please select file to read: vets_test\n"
     ]
    }
   ],
   "source": [
    "listname1 = input(\"Please select file to read: \")\n",
    "list1 = pd.read_csv(listname1+\".csv\")"
   ]
  },
  {
   "cell_type": "code",
   "execution_count": 43,
   "metadata": {},
   "outputs": [],
   "source": [
    "def remove_space(df):\n",
    "    for i in df.index:\n",
    "        if df.loc[i,'Last Name'][0] == \" \":\n",
    "            remove_space1 = df.loc[i,'Last Name'][1:]\n",
    "            df.loc[i,'Last Name'] = remove_space1\n",
    "            \n",
    "        if df.loc[i,'First Name'][0] == \" \":\n",
    "            remove_space2 = df.loc[i,'First Name'][1:]\n",
    "            df.loc[i,'First Name'] = remove_space2\n",
    "\n",
    "    list1.to_csv(listname1+\"_corrected.csv\", index=False)\n",
    "    print(\"Spaces removed. Changes written to file {}_corrected.csv.\".format(listname1))"
   ]
  },
  {
   "cell_type": "code",
   "execution_count": 41,
   "metadata": {},
   "outputs": [
    {
     "name": "stdout",
     "output_type": "stream",
     "text": [
      "Spaces removed. Changes written to file vets_test.csv.\n"
     ]
    }
   ],
   "source": [
    "remove_space(list1)"
   ]
  },
  {
   "cell_type": "code",
   "execution_count": 42,
   "metadata": {},
   "outputs": [
    {
     "data": {
      "text/html": [
       "<div>\n",
       "<style scoped>\n",
       "    .dataframe tbody tr th:only-of-type {\n",
       "        vertical-align: middle;\n",
       "    }\n",
       "\n",
       "    .dataframe tbody tr th {\n",
       "        vertical-align: top;\n",
       "    }\n",
       "\n",
       "    .dataframe thead th {\n",
       "        text-align: right;\n",
       "    }\n",
       "</style>\n",
       "<table border=\"1\" class=\"dataframe\">\n",
       "  <thead>\n",
       "    <tr style=\"text-align: right;\">\n",
       "      <th></th>\n",
       "      <th>Unnamed: 0</th>\n",
       "      <th>Last Name</th>\n",
       "      <th>First Name</th>\n",
       "      <th>KIA</th>\n",
       "      <th>War</th>\n",
       "    </tr>\n",
       "  </thead>\n",
       "  <tbody>\n",
       "    <tr>\n",
       "      <th>0</th>\n",
       "      <td>0</td>\n",
       "      <td>ABBOT</td>\n",
       "      <td>CHARLES W JR</td>\n",
       "      <td>False</td>\n",
       "      <td>WW1</td>\n",
       "    </tr>\n",
       "    <tr>\n",
       "      <th>1</th>\n",
       "      <td>1</td>\n",
       "      <td>ACKERMAN</td>\n",
       "      <td>SAMUEL</td>\n",
       "      <td>False</td>\n",
       "      <td>WW1</td>\n",
       "    </tr>\n",
       "    <tr>\n",
       "      <th>2</th>\n",
       "      <td>2</td>\n",
       "      <td>AINSWORTH</td>\n",
       "      <td>HAROLD</td>\n",
       "      <td>False</td>\n",
       "      <td>WW1</td>\n",
       "    </tr>\n",
       "    <tr>\n",
       "      <th>3</th>\n",
       "      <td>3</td>\n",
       "      <td>ALLETAG</td>\n",
       "      <td>OTTO J</td>\n",
       "      <td>False</td>\n",
       "      <td>WW1</td>\n",
       "    </tr>\n",
       "    <tr>\n",
       "      <th>4</th>\n",
       "      <td>4</td>\n",
       "      <td>ALLETAG</td>\n",
       "      <td>RUDOLPH</td>\n",
       "      <td>False</td>\n",
       "      <td>WW1</td>\n",
       "    </tr>\n",
       "    <tr>\n",
       "      <th>...</th>\n",
       "      <td>...</td>\n",
       "      <td>...</td>\n",
       "      <td>...</td>\n",
       "      <td>...</td>\n",
       "      <td>...</td>\n",
       "    </tr>\n",
       "    <tr>\n",
       "      <th>79</th>\n",
       "      <td>79</td>\n",
       "      <td>MASUD</td>\n",
       "      <td>GEORGE</td>\n",
       "      <td>False</td>\n",
       "      <td>Vietnam</td>\n",
       "    </tr>\n",
       "    <tr>\n",
       "      <th>80</th>\n",
       "      <td>80</td>\n",
       "      <td>MATRONE</td>\n",
       "      <td>RALPH J</td>\n",
       "      <td>False</td>\n",
       "      <td>Vietnam</td>\n",
       "    </tr>\n",
       "    <tr>\n",
       "      <th>81</th>\n",
       "      <td>81</td>\n",
       "      <td>MCCANNA</td>\n",
       "      <td>JAMES R JR</td>\n",
       "      <td>False</td>\n",
       "      <td>Vietnam</td>\n",
       "    </tr>\n",
       "    <tr>\n",
       "      <th>82</th>\n",
       "      <td>82</td>\n",
       "      <td>MACAULEY</td>\n",
       "      <td>WILLIAM T</td>\n",
       "      <td>False</td>\n",
       "      <td>Vietnam</td>\n",
       "    </tr>\n",
       "    <tr>\n",
       "      <th>83</th>\n",
       "      <td>83</td>\n",
       "      <td>MELLO</td>\n",
       "      <td>KEVIN</td>\n",
       "      <td>False</td>\n",
       "      <td>Vietnam</td>\n",
       "    </tr>\n",
       "  </tbody>\n",
       "</table>\n",
       "<p>84 rows × 5 columns</p>\n",
       "</div>"
      ],
      "text/plain": [
       "    Unnamed: 0  Last Name    First Name    KIA      War\n",
       "0            0      ABBOT  CHARLES W JR  False      WW1\n",
       "1            1   ACKERMAN        SAMUEL  False      WW1\n",
       "2            2  AINSWORTH        HAROLD  False      WW1\n",
       "3            3    ALLETAG        OTTO J  False      WW1\n",
       "4            4    ALLETAG       RUDOLPH  False      WW1\n",
       "..         ...        ...           ...    ...      ...\n",
       "79          79      MASUD        GEORGE  False  Vietnam\n",
       "80          80    MATRONE       RALPH J  False  Vietnam\n",
       "81          81    MCCANNA    JAMES R JR  False  Vietnam\n",
       "82          82   MACAULEY     WILLIAM T  False  Vietnam\n",
       "83          83      MELLO         KEVIN  False  Vietnam\n",
       "\n",
       "[84 rows x 5 columns]"
      ]
     },
     "execution_count": 42,
     "metadata": {},
     "output_type": "execute_result"
    }
   ],
   "source": [
    "list1"
   ]
  },
  {
   "cell_type": "code",
   "execution_count": null,
   "metadata": {},
   "outputs": [],
   "source": []
  }
 ],
 "metadata": {
  "kernelspec": {
   "display_name": "Python 3",
   "language": "python",
   "name": "python3"
  },
  "language_info": {
   "codemirror_mode": {
    "name": "ipython",
    "version": 3
   },
   "file_extension": ".py",
   "mimetype": "text/x-python",
   "name": "python",
   "nbconvert_exporter": "python",
   "pygments_lexer": "ipython3",
   "version": "3.7.6"
  }
 },
 "nbformat": 4,
 "nbformat_minor": 4
}
