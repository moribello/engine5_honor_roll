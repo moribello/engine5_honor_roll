{
 "cells": [
  {
   "cell_type": "code",
   "execution_count": 1,
   "metadata": {},
   "outputs": [],
   "source": [
    "import numpy as np\n",
    "import pandas as pd"
   ]
  },
  {
   "cell_type": "code",
   "execution_count": 28,
   "metadata": {},
   "outputs": [],
   "source": [
    "def remove_space(df, listname):\n",
    "    for i in df.index:\n",
    "        if df.loc[i,'Last Name'][0] == \" \":\n",
    "            remove_space1 = df.loc[i,'Last Name'][1:]\n",
    "            df.loc[i,'Last Name'] = remove_space1\n",
    "        else:\n",
    "            remove_space1 = df.loc[i,'Last Name']\n",
    "            \n",
    "        if df.loc[i,'First Name'][0] == \" \":\n",
    "            remove_space2 = df.loc[i,'First Name'][1:]\n",
    "            df.loc[i,'First Name'] = remove_space2\n",
    "        else:\n",
    "            remove_space2 = df.loc[i,'First Name']\n",
    "\n",
    "\n",
    "    df.to_csv(listname+\"_corrected.csv\", index=False)\n",
    "    print(\"Spaces removed. Changes written to file {}_corrected.csv.\".format(listname))"
   ]
  },
  {
   "cell_type": "code",
   "execution_count": 9,
   "metadata": {},
   "outputs": [],
   "source": [
    "def import_list():\n",
    "    while True:\n",
    "        try:\n",
    "            listname1 = input(\"Please select file to read: \")\n",
    "            list1 = pd.read_csv(listname1+\".csv\")\n",
    "            break\n",
    "        except:\n",
    "            print(\"That doesn't appear to be a valid file. Please try again.\")\n",
    "\n",
    "    return list1, listname1"
   ]
  },
  {
   "cell_type": "code",
   "execution_count": 23,
   "metadata": {},
   "outputs": [],
   "source": [
    "def main():\n",
    "        list1, listname1 = import_list()\n",
    "        remove_space(list1, listname1)"
   ]
  },
  {
   "cell_type": "code",
   "execution_count": 29,
   "metadata": {},
   "outputs": [
    {
     "name": "stdout",
     "output_type": "stream",
     "text": [
      "Please select file to read: vets_test\n",
      "CHARLES W JR 13 12\n",
      "SAMUEL 7 6\n",
      "HAROLD 7 6\n",
      "OTTO J 7 6\n",
      "RUDOLPH 8 7\n",
      "NAPOLEON F 11 10\n",
      "WILFRED 8 7\n",
      "PRIMO S 8 7\n",
      "METRO 6 5\n",
      "DONAT P 8 7\n",
      "ALBERT J 9 8\n",
      "ERNEST A 9 8\n",
      "HECTOR 7 6\n",
      "EDWARD 7 6\n",
      "EDWIN T 8 7\n",
      "ALBERT 7 6\n",
      "ALDEGE 7 6\n",
      "CLIFFORD 9 8\n",
      "JOSEPH O 9 8\n",
      "OVIDE 6 5\n",
      "WILFRED 8 7\n",
      "JOHN 5 4\n",
      "HAROLD 7 6\n",
      "JOSEPH 7 6\n",
      "ALBERT L 9 8\n",
      "HENRY 6 5\n",
      "VINCENT 8 7\n",
      "ALBERT 7 6\n",
      "WILLIAM H 10 9\n",
      "ALFRED 7 6\n",
      " ANTONIO JR 7 6\n",
      " LOUIS 7 6\n",
      "HARLOD M JR 7 6\n",
      " CHARLES 7 6\n",
      " JOHN H 7 6\n",
      " ROBERT J 7 6\n",
      " RONALD 7 6\n",
      " GIRARD N 7 6\n",
      " DONALD D 7 6\n",
      " EDMOND L 7 6\n",
      " WILLIAM C 7 6\n",
      " JOSEPH M 7 6\n",
      " JOHN J 7 6\n",
      " VITAL S 7 6\n",
      " ALFRET 7 6\n",
      " ROBERT J 7 6\n",
      " DENNIS A 7 6\n",
      " ALBERT E 7 6\n",
      " LIONEL A 7 6\n",
      " DONALD J 7 6\n",
      " ROLAND 7 6\n",
      " RAYMOND 7 6\n",
      " CHARLES E JR 7 6\n",
      " ROSARIO A 7 6\n",
      " ARTHUR W 7 6\n",
      " AMBROSE A 7 6\n",
      " JOHN P 7 6\n",
      " THEODORE W 12 11\n",
      " THEODORE W 12 11\n",
      " JAMES B 12 11\n",
      " ARTHUR E 12 11\n",
      " GEORGE W 12 11\n",
      " WILLIAM 12 11\n",
      " RAMON F 12 11\n",
      " ROGER J 12 11\n",
      " RONALD R 12 11\n",
      " JOHN 12 11\n",
      " ANTHONY L 12 11\n",
      " HOWARD 12 11\n",
      " MICHAEL A 12 11\n",
      " JOSEPH R 12 11\n",
      " MICHAEL A 12 11\n",
      " EDWARD W 10 9\n",
      "HENRY 6 5\n",
      "JOHN E 7 6\n",
      "FELIX C 8 7\n",
      "FRANK C 8 7\n",
      "EDWARD 8 7\n",
      "WILFRED J JR 13 12\n",
      "GEORGE 7 6\n",
      "RALPH J 8 7\n",
      "JAMES R JR 11 10\n",
      "WILLIAM T 10 9\n",
      "KEVIN 6 5\n",
      "Spaces removed. Changes written to file vets_test_corrected.csv.\n"
     ]
    }
   ],
   "source": [
    "if __name__ == \"__main__\":\n",
    "    main()"
   ]
  },
  {
   "cell_type": "code",
   "execution_count": null,
   "metadata": {},
   "outputs": [],
   "source": [
    "remove_space(list1)"
   ]
  },
  {
   "cell_type": "code",
   "execution_count": null,
   "metadata": {},
   "outputs": [],
   "source": []
  }
 ],
 "metadata": {
  "kernelspec": {
   "display_name": "Python 3",
   "language": "python",
   "name": "python3"
  },
  "language_info": {
   "codemirror_mode": {
    "name": "ipython",
    "version": 3
   },
   "file_extension": ".py",
   "mimetype": "text/x-python",
   "name": "python",
   "nbconvert_exporter": "python",
   "pygments_lexer": "ipython3",
   "version": "3.7.6"
  }
 },
 "nbformat": 4,
 "nbformat_minor": 4
}
