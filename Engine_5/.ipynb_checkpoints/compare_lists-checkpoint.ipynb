{
 "cells": [
  {
   "cell_type": "code",
   "execution_count": 1,
   "metadata": {},
   "outputs": [],
   "source": [
    "import numpy as np\n",
    "import pandas as pd"
   ]
  },
  {
   "cell_type": "code",
   "execution_count": 26,
   "metadata": {},
   "outputs": [
    {
     "name": "stdout",
     "output_type": "stream",
     "text": [
      "Please select first file to read: 2003\n",
      "Please select second file to read: 2008\n"
     ]
    }
   ],
   "source": [
    "listname1 = input(\"Please select first file to read: \")\n",
    "list1 = pd.read_csv(listname1+\".csv\")\n",
    "listname2 = input(\"Please select second file to read: \")\n",
    "list2 = pd.read_csv(listname2+\".csv\")"
   ]
  },
  {
   "cell_type": "code",
   "execution_count": 88,
   "metadata": {},
   "outputs": [],
   "source": [
    "def compare_names(df, df2):\n",
    "    for i in df.index:\n",
    "        lastname1 = df.loc[i,'Last Name'].title()\n",
    "        firstname1 = df.loc[i,'First Name'].title()\n",
    "        for x in df2.index:\n",
    "            lastname2 = df2.loc[x,'Last Name'].title()\n",
    "            firstname2 = df2.loc[x,'First Name'].title()\n",
    "            if lastname2 == lastname1:\n",
    "                if firstname2 == firstname1:\n",
    "                    print(\"{} {} matches {} {}\".format(firstname2, lastname2, firstname1, lastname1))\n",
    "#                else:\n",
    "#                    print(\"{} {} does not match {} {}\".format(firstname2, lastname2, firstname1, lastname1))"
   ]
  },
  {
   "cell_type": "code",
   "execution_count": 89,
   "metadata": {},
   "outputs": [
    {
     "name": "stdout",
     "output_type": "stream",
     "text": [
      "ED SR Wujcik matches ED SR Wujcik\n",
      "ALEX Mikulski matches ALEX Mikulski\n",
      "STANLEY Mikulski matches STANLEY Mikulski\n",
      "ED Martel matches ED Martel\n",
      "OWEN Caldwell matches OWEN Caldwell\n",
      "GEORGE Skac matches GEORGE Skac\n",
      "ED JR Wujcik matches ED JR Wujcik\n",
      "MIKE Roccabello matches MIKE Roccabello\n",
      "JIM Mcmahon matches JIM Mcmahon\n",
      "JAN Malik matches JAN Malik\n",
      "STEVE Jarvais matches STEVE Jarvais\n",
      "JON Ulmschneider matches JON Ulmschneider\n",
      "MIKE Sylvia matches MIKE Sylvia\n",
      "JEFF Rego matches JEFF Rego\n",
      "STEVE Silva matches STEVE Silva\n",
      "CHRIS Dacosta matches CHRIS Dacosta\n",
      "SCOTT Little matches SCOTT Little\n",
      "JOE Semiao matches JOE Semiao\n",
      "CHRIS Forshee matches CHRIS Forshee\n",
      "DAVID Carmo matches DAVID Carmo\n",
      "FRANK Skac matches FRANK Skac\n",
      "JOHN Amaral matches JOHN Amaral\n",
      "MARC Domina matches MARC Domina\n",
      "JASON  Sousa matches JASON  Sousa\n",
      "STEVE Laroche matches STEVE Laroche\n",
      "ROBBIE Allen matches ROBBIE Allen\n",
      "PAT Swist matches PAT Swist\n",
      "DAN Miner matches DAN Miner\n",
      "MARK Oribello matches MARK Oribello\n",
      "JIM Hayes matches JIM Hayes\n",
      "DAVE Woodfield matches DAVE Woodfield\n",
      "HENRY Alberti matches HENRY Alberti\n",
      "JAMIE Medeiros matches JAMIE Medeiros\n",
      "CHRIS Spangler matches CHRIS Spangler\n",
      "JOE Sylvia matches JOE Sylvia\n",
      "ROBBIE Ulmschneider matches ROBBIE Ulmschneider\n",
      "KEVIN Medeiros matches KEVIN Medeiros\n",
      "BRUCE Alves matches BRUCE Alves\n"
     ]
    }
   ],
   "source": [
    "compare_names(list1, list2)"
   ]
  },
  {
   "cell_type": "code",
   "execution_count": 6,
   "metadata": {},
   "outputs": [
    {
     "name": "stdout",
     "output_type": "stream",
     "text": [
      "51\n"
     ]
    }
   ],
   "source": [
    "length = len(list1.index) + 1\n",
    "print(length)"
   ]
  },
  {
   "cell_type": "code",
   "execution_count": null,
   "metadata": {},
   "outputs": [],
   "source": []
  }
 ],
 "metadata": {
  "kernelspec": {
   "display_name": "Python 3",
   "language": "python",
   "name": "python3"
  },
  "language_info": {
   "codemirror_mode": {
    "name": "ipython",
    "version": 3
   },
   "file_extension": ".py",
   "mimetype": "text/x-python",
   "name": "python",
   "nbconvert_exporter": "python",
   "pygments_lexer": "ipython3",
   "version": "3.7.6"
  }
 },
 "nbformat": 4,
 "nbformat_minor": 4
}
