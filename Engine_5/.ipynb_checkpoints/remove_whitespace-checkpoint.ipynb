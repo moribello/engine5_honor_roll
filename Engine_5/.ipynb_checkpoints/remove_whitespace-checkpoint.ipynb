{
 "cells": [
  {
   "cell_type": "code",
   "execution_count": 11,
   "metadata": {},
   "outputs": [],
   "source": [
    "import numpy as np\n",
    "import pandas as pd"
   ]
  },
  {
   "cell_type": "code",
   "execution_count": 12,
   "metadata": {},
   "outputs": [],
   "source": [
    "def remove_space(df, listname):\n",
    "    for i in df.index:\n",
    "        if df.loc[i,'Last Name'][0] == \" \":\n",
    "            remove_space1 = df.loc[i,'Last Name'][1:]\n",
    "            df.loc[i,'Last Name'] = remove_space1\n",
    "        else:\n",
    "            remove_space1 = df.loc[i,'Last Name']\n",
    "            df.loc[i,'Last Name'] = remove_space1\n",
    "            \n",
    "        if df.loc[i,'First Name'][0] == \" \":\n",
    "            remove_space2 = df.loc[i,'First Name'][1:]\n",
    "            df.loc[i,'First Name'] = remove_space2\n",
    "        else:\n",
    "            remove_space2 = df.loc[i,'First Name']\n",
    "\n",
    "\n",
    "    df.to_csv(listname+\"_corrected.csv\", index=False)\n",
    "    print(\"Spaces removed. Changes written to file {}_corrected.csv.\".format(listname))"
   ]
  },
  {
   "cell_type": "code",
   "execution_count": 13,
   "metadata": {},
   "outputs": [],
   "source": [
    "def import_list():\n",
    "    while True:\n",
    "        try:\n",
    "            listname1 = input(\"Please select file to read: \")\n",
    "            list1 = pd.read_csv(listname1+\".csv\")\n",
    "            break\n",
    "        except:\n",
    "            print(listname1)\n",
    "            print(\"That doesn't appear to be a valid file. Please try again.\")\n",
    "\n",
    "    return list1, listname1"
   ]
  },
  {
   "cell_type": "code",
   "execution_count": 14,
   "metadata": {},
   "outputs": [],
   "source": [
    "def main():\n",
    "        list1, listname1 = import_list()\n",
    "        remove_space(list1, listname1)"
   ]
  },
  {
   "cell_type": "code",
   "execution_count": 15,
   "metadata": {},
   "outputs": [
    {
     "name": "stdout",
     "output_type": "stream",
     "text": [
      "Please select file to read: Member_list_modified\n",
      "Spaces removed. Changes written to file Member_list_modified_corrected.csv.\n"
     ]
    }
   ],
   "source": [
    "if __name__ == \"__main__\":\n",
    "    main()"
   ]
  },
  {
   "cell_type": "code",
   "execution_count": null,
   "metadata": {},
   "outputs": [],
   "source": [
    "pd.set_option('display.max_rows', None)\n",
    "corrected = pd.read_csv(\"vets_test_corrected.csv\")\n",
    "corrected"
   ]
  },
  {
   "cell_type": "code",
   "execution_count": null,
   "metadata": {},
   "outputs": [],
   "source": []
  }
 ],
 "metadata": {
  "kernelspec": {
   "display_name": "Python 3",
   "language": "python",
   "name": "python3"
  },
  "language_info": {
   "codemirror_mode": {
    "name": "ipython",
    "version": 3
   },
   "file_extension": ".py",
   "mimetype": "text/x-python",
   "name": "python",
   "nbconvert_exporter": "python",
   "pygments_lexer": "ipython3",
   "version": "3.7.6"
  }
 },
 "nbformat": 4,
 "nbformat_minor": 4
}
